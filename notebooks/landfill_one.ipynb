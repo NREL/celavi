{
 "cells": [
  {
   "cell_type": "code",
   "execution_count": 1,
   "metadata": {},
   "outputs": [],
   "source": [
    "import numpy as np\n",
    "import pandas as pd\n",
    "import matplotlib.pyplot as plt\n",
    "from scipy.stats import weibull_min\n",
    "\n",
    "from celavi.simple_model import Context\n",
    "\n",
    "np.random.seed(0)"
   ]
  },
  {
   "cell_type": "markdown",
   "metadata": {},
   "source": [
    "## Lifespan functions"
   ]
  },
  {
   "cell_type": "code",
   "execution_count": 8,
   "metadata": {},
   "outputs": [],
   "source": [
    "lifespan_fns = {\n",
    "    \"nacelle\": lambda: 30,\n",
    "#     \"blade\": lambda: round(float(weibull_min.rvs(2, loc=0, scale=17, size=1))),\n",
    "    \"blade\": lambda: round(float(weibull_min.rvs(0.75, loc=0, scale=17, size=1))),\n",
    "    \"foundation\": lambda: 50,\n",
    "    \"tower\": lambda: 50,\n",
    "}"
   ]
  },
  {
   "cell_type": "markdown",
   "metadata": {},
   "source": [
    "## Components of all the turbines"
   ]
  },
  {
   "cell_type": "code",
   "execution_count": 9,
   "metadata": {},
   "outputs": [],
   "source": [
    "turbine = [\n",
    "    {\n",
    "        \"kind\": \"blade\",\n",
    "        \"xlat\": 39.9106,\n",
    "        \"ylon\": -105.2347,\n",
    "        \"year\": 2000,\n",
    "    },\n",
    "    {\n",
    "        \"kind\": \"blade\",\n",
    "        \"xlat\": 39.9106,\n",
    "        \"ylon\": -105.2347,\n",
    "        \"year\": 2000,\n",
    "    },\n",
    "    {\n",
    "        \"kind\": \"blade\",\n",
    "        \"xlat\": 39.9106,\n",
    "        \"ylon\": -105.2347,\n",
    "        \"year\": 2000,\n",
    "    },\n",
    "    {\n",
    "        \"kind\": \"nacelle\",\n",
    "        \"xlat\": 39.9106,\n",
    "        \"ylon\": -105.2347,\n",
    "        \"year\": 2000,\n",
    "    },\n",
    "    {\n",
    "        \"kind\": \"tower\",\n",
    "        \"xlat\": 39.9106,\n",
    "        \"ylon\": -105.2347,\n",
    "        \"year\": 2000,\n",
    "    },\n",
    "    {\n",
    "        \"kind\": \"foundation\",\n",
    "        \"xlat\": 39.9106,\n",
    "        \"ylon\": -105.2347,\n",
    "        \"year\": 2000,\n",
    "    },\n",
    "]\n",
    "\n",
    "components = pd.DataFrame(turbine * 1000)"
   ]
  },
  {
   "cell_type": "markdown",
   "metadata": {},
   "source": [
    "## Load components into context and run it.\n",
    "\n",
    "THen display the CDF of the blades in the landfill"
   ]
  },
  {
   "cell_type": "code",
   "execution_count": 10,
   "metadata": {},
   "outputs": [
    {
     "data": {
      "text/plain": [
       "[<matplotlib.lines.Line2D at 0x7faec3b80820>]"
      ]
     },
     "execution_count": 10,
     "metadata": {},
     "output_type": "execute_result"
    },
    {
     "data": {
      "image/png": "[encoded data removed]",
      "text/plain": [
       "<Figure size 720x360 with 1 Axes>"
      ]
     },
     "metadata": {
      "needs_background": "light"
     },
     "output_type": "display_data"
    }
   ],
   "source": [
    "context = Context()\n",
    "context.populate(components, lifespan_fns)\n",
    "landfill_inventory = context.run()\n",
    "ys = landfill_inventory.loc[160:, \"blade\"]\n",
    "xs = np.arange(len(ys))\n",
    "fig, ax = plt.subplots(nrows=1, ncols=1, figsize=(10, 5))\n",
    "ax.plot(xs, ys)"
   ]
  },
  {
   "cell_type": "code",
   "execution_count": 5,
   "metadata": {},
   "outputs": [
    {
     "data": {
      "text/plain": [
       "112"
      ]
     },
     "execution_count": 5,
     "metadata": {},
     "output_type": "execute_result"
    }
   ],
   "source": [
    "len(ys)"
   ]
  },
  {
   "cell_type": "markdown",
   "metadata": {},
   "source": [
    "## Make a plot of the empirical CDF"
   ]
  },
  {
   "cell_type": "code",
   "execution_count": 6,
   "metadata": {},
   "outputs": [
    {
     "data": {
      "text/plain": [
       "[<matplotlib.lines.Line2D at 0x7faec8f863a0>]"
      ]
     },
     "execution_count": 6,
     "metadata": {},
     "output_type": "execute_result"
    },
    {
     "data": {
      "image/png": "[encoded data removed]",
      "text/plain": [
       "<Figure size 720x360 with 1 Axes>"
      ]
     },
     "metadata": {
      "needs_background": "light"
     },
     "output_type": "display_data"
    }
   ],
   "source": [
    "df = pd.read_csv(\"empirical_blades_retired_per_year.csv\")\n",
    "xs = df[\"Year\"].values\n",
    "ys = df[\"Blades.Retired.Per.Year\"].values\n",
    "ys = np.cumsum(ys)\n",
    "fig, ax = plt.subplots(nrows=1, ncols=1, figsize=(10, 5))\n",
    "ax.plot(xs, ys)"
   ]
  },
  {
   "cell_type": "code",
   "execution_count": 7,
   "metadata": {},
   "outputs": [
    {
     "data": {
      "text/plain": [
       "31"
      ]
     },
     "execution_count": 7,
     "metadata": {},
     "output_type": "execute_result"
    }
   ],
   "source": [
    "len(ys)"
   ]
  },
  {
   "cell_type": "code",
   "execution_count": null,
   "metadata": {},
   "outputs": [],
   "source": []
  }
 ],
 "metadata": {
  "kernelspec": {
   "display_name": "Python 3",
   "language": "python",
   "name": "python3"
  },
  "language_info": {
   "codemirror_mode": {
    "name": "ipython",
    "version": 3
   },
   "file_extension": ".py",
   "mimetype": "text/x-python",
   "name": "python",
   "nbconvert_exporter": "python",
   "pygments_lexer": "ipython3",
   "version": "3.8.4"
  }
 },
 "nbformat": 4,
 "nbformat_minor": 4
}
