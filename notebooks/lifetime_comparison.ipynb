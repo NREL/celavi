{
 "cells": [
  {
   "cell_type": "code",
   "execution_count": 1,
   "metadata": {},
   "outputs": [],
   "source": [
    "import numpy as np\n",
    "import pandas as pd\n",
    "import matplotlib.pyplot as plt\n",
    "from scipy.stats import weibull_min\n",
    "\n",
    "from celavi.simple_model import Context\n",
    "\n",
    "np.random.seed(0)"
   ]
  },
  {
   "cell_type": "code",
   "execution_count": 11,
   "metadata": {},
   "outputs": [
    {
     "data": {
      "text/plain": [
       "<matplotlib.lines.Line2D at 0x7ffa84c52e80>"
      ]
     },
     "execution_count": 11,
     "metadata": {},
     "output_type": "execute_result"
    },
    {
     "data": {
      "image/png": "[encoded data removed]",
      "text/plain": [
       "<Figure size 720x360 with 1 Axes>"
      ]
     },
     "metadata": {
      "needs_background": "light"
     },
     "output_type": "display_data"
    }
   ],
   "source": [
    "fig, ax = plt.subplots(nrows=1, ncols=1, figsize=(10, 5))\n",
    "\n",
    "lifetimes = [15, 20, 30]\n",
    "number_of_turbines = 638\n",
    "\n",
    "for lifetime in lifetimes:\n",
    "    K = 2.2   # DES Weibull shape parameter\n",
    "    L = lifetime  # DES Weibull scale parameter\n",
    "\n",
    "    year_built = 2020\n",
    "\n",
    "    lifespan_fns = {\n",
    "        \"nacelle\": lambda: 30,\n",
    "        \"blade\": lambda: round(float(weibull_min.rvs(K, loc=0, scale=L, size=1))),  # EOLs on whole years\n",
    "        \"foundation\": lambda: 50,\n",
    "        \"tower\": lambda: 50,\n",
    "    }\n",
    "\n",
    "    turbine = [\n",
    "        {\n",
    "            \"kind\": \"blade\",\n",
    "            \"xlat\": 39.9106,\n",
    "            \"ylon\": -105.2347,\n",
    "            \"year\": year_built,\n",
    "        },\n",
    "        {\n",
    "            \"kind\": \"blade\",\n",
    "            \"xlat\": 39.9106,\n",
    "            \"ylon\": -105.2347,\n",
    "            \"year\": year_built,\n",
    "        },\n",
    "        {\n",
    "            \"kind\": \"blade\",\n",
    "            \"xlat\": 39.9106,\n",
    "            \"ylon\": -105.2347,\n",
    "            \"year\": year_built,\n",
    "        },\n",
    "        {\n",
    "            \"kind\": \"nacelle\",\n",
    "            \"xlat\": 39.9106,\n",
    "            \"ylon\": -105.2347,\n",
    "            \"year\": year_built,\n",
    "        },\n",
    "        {\n",
    "            \"kind\": \"tower\",\n",
    "            \"xlat\": 39.9106,\n",
    "            \"ylon\": -105.2347,\n",
    "            \"year\": year_built,\n",
    "        },\n",
    "        {\n",
    "            \"kind\": \"foundation\",\n",
    "            \"xlat\": 39.9106,\n",
    "            \"ylon\": -105.2347,\n",
    "            \"year\": year_built,\n",
    "        },\n",
    "    ]\n",
    "\n",
    "    components = pd.DataFrame(turbine * number_of_turbines)\n",
    "    \n",
    "    context = Context()\n",
    "    context.populate(components, lifespan_fns)\n",
    "    landfill_inventory = context.run()\n",
    "    \n",
    "    ys = landfill_inventory.loc[160:, \"blade\"]\n",
    "    xs = np.arange(len(ys)) / 4 + 2020  # Convert from discrete time to years\n",
    "    ax.plot(xs, ys, label=f\"L={lifetime}\")\n",
    "    \n",
    "ax.legend(loc=\"best\")\n",
    "ax.axvline(2030.0, color=\"k\", alpha=0.5)"
   ]
  },
  {
   "cell_type": "code",
   "execution_count": null,
   "metadata": {},
   "outputs": [],
   "source": []
  }
 ],
 "metadata": {
  "kernelspec": {
   "display_name": "Python 3",
   "language": "python",
   "name": "python3"
  },
  "language_info": {
   "codemirror_mode": {
    "name": "ipython",
    "version": 3
   },
   "file_extension": ".py",
   "mimetype": "text/x-python",
   "name": "python",
   "nbconvert_exporter": "python",
   "pygments_lexer": "ipython3",
   "version": "3.8.4"
  }
 },
 "nbformat": 4,
 "nbformat_minor": 4
}
