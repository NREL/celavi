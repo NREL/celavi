{
 "cells": [
  {
   "cell_type": "markdown",
   "metadata": {},
   "source": [
    "Requires `TX_input_data_with_masses.csv` which is produced by the `compute_masses_TX.ipynb` notebook, or available on Box at `data/model inputs and outputs`"
   ]
  },
  {
   "cell_type": "code",
   "execution_count": 5,
   "metadata": {},
   "outputs": [],
   "source": [
    "import numpy as np\n",
    "import pandas as pd\n",
    "import matplotlib.pyplot as plt\n",
    "from scipy.stats import weibull_min\n",
    "\n",
    "from celavi.simple_model import Context\n",
    "\n",
    "np.random.seed(123)"
   ]
  },
  {
   "cell_type": "code",
   "execution_count": 6,
   "metadata": {},
   "outputs": [],
   "source": [
    "scenario = 'bau'"
   ]
  },
  {
   "cell_type": "markdown",
   "metadata": {},
   "source": [
    "## Define cost parameters"
   ]
  },
  {
   "cell_type": "code",
   "execution_count": 7,
   "metadata": {},
   "outputs": [],
   "source": [
    "bau_cost_params = {'landfilling_transpo': 21.50,\n",
    "                   'recycling_transpo': 16.0,\n",
    "                   'coarse_grinding_cost_init': 55.13,\n",
    "                   'fine_grinding_cost_init': 165.38,\n",
    "                   'recycling_learning_rate': 0.05,\n",
    "                   'recycling_strategic_value': 0.0,\n",
    "                   'recycling_to_raw_material_revenue': -169.79,\n",
    "                   'recycling_to_clinker_revenue': -10.37,\n",
    "                   'recycling_landfilling_transpo': 0.15,\n",
    "                   'recycling_to_clinker_transpo': 67.50,\n",
    "                   'recycling_to_raw_material_transpo': 47.25}\n",
    "\n",
    "mc_cost_params = {'landfilling_transpo': 21.50,\n",
    "                   'recycling_transpo': 16.0,\n",
    "                   'coarse_grinding_cost_init': 41.35,\n",
    "                   'fine_grinding_cost_init': 143.33,\n",
    "                   'recycling_learning_rate': 0.05,\n",
    "                   'recycling_strategic_value': 10.0,\n",
    "                   'recycling_to_raw_material_revenue': -191.02,\n",
    "                   'recycling_to_clinker_revenue': -10.37,\n",
    "                   'recycling_landfilling_transpo': 0.15,\n",
    "                   'recycling_to_clinker_transpo': 67.50,\n",
    "                   'recycling_to_raw_material_transpo': 47.25}\n",
    "\n",
    "hc_cost_params = {'landfilling_transpo': 21.50,\n",
    "                   'recycling_transpo': 16.0,\n",
    "                   'coarse_grinding_cost_init': 27.56,\n",
    "                   'fine_grinding_cost_init': 121.28,\n",
    "                   'recycling_learning_rate': 0.05,\n",
    "                   'recycling_strategic_value': 20.0,\n",
    "                   'recycling_to_raw_material_revenue': -212.24,\n",
    "                   'recycling_to_clinker_revenue': -10.37,\n",
    "                   'recycling_landfilling_transpo': 0.15,\n",
    "                   'recycling_to_clinker_transpo': 67.50,\n",
    "                   'recycling_to_raw_material_transpo': 47.25}"
   ]
  },
  {
   "cell_type": "markdown",
   "metadata": {},
   "source": [
    "## Import the USGS data"
   ]
  },
  {
   "cell_type": "code",
   "execution_count": 8,
   "metadata": {},
   "outputs": [
    {
     "name": "stdout",
     "output_type": "stream",
     "text": [
      "22339\n"
     ]
    },
    {
     "data": {
      "text/html": [
       "<div>\n",
       "<style scoped>\n",
       "    .dataframe tbody tr th:only-of-type {\n",
       "        vertical-align: middle;\n",
       "    }\n",
       "\n",
       "    .dataframe tbody tr th {\n",
       "        vertical-align: top;\n",
       "    }\n",
       "\n",
       "    .dataframe thead th {\n",
       "        text-align: right;\n",
       "    }\n",
       "</style>\n",
       "<table border=\"1\" class=\"dataframe\">\n",
       "  <thead>\n",
       "    <tr style=\"text-align: right;\">\n",
       "      <th></th>\n",
       "      <th>year</th>\n",
       "      <th>t_cap_mw</th>\n",
       "      <th>ylat</th>\n",
       "      <th>xlong</th>\n",
       "      <th>blade_mass_tonnes</th>\n",
       "      <th>foundation_mass_tonnes</th>\n",
       "    </tr>\n",
       "  </thead>\n",
       "  <tbody>\n",
       "    <tr>\n",
       "      <th>0</th>\n",
       "      <td>2001.0</td>\n",
       "      <td>1.051492</td>\n",
       "      <td>-100.376937</td>\n",
       "      <td>31.988169</td>\n",
       "      <td>13.006961</td>\n",
       "      <td>82.025352</td>\n",
       "    </tr>\n",
       "    <tr>\n",
       "      <th>1</th>\n",
       "      <td>2001.0</td>\n",
       "      <td>1.051492</td>\n",
       "      <td>-100.376937</td>\n",
       "      <td>31.988169</td>\n",
       "      <td>13.006961</td>\n",
       "      <td>82.025352</td>\n",
       "    </tr>\n",
       "    <tr>\n",
       "      <th>2</th>\n",
       "      <td>2001.0</td>\n",
       "      <td>1.051492</td>\n",
       "      <td>-100.376937</td>\n",
       "      <td>31.988169</td>\n",
       "      <td>13.006961</td>\n",
       "      <td>82.025352</td>\n",
       "    </tr>\n",
       "    <tr>\n",
       "      <th>3</th>\n",
       "      <td>2001.0</td>\n",
       "      <td>1.051492</td>\n",
       "      <td>-100.376937</td>\n",
       "      <td>31.988169</td>\n",
       "      <td>13.006961</td>\n",
       "      <td>82.025352</td>\n",
       "    </tr>\n",
       "    <tr>\n",
       "      <th>4</th>\n",
       "      <td>2001.0</td>\n",
       "      <td>1.051492</td>\n",
       "      <td>-100.376937</td>\n",
       "      <td>31.988169</td>\n",
       "      <td>13.006961</td>\n",
       "      <td>82.025352</td>\n",
       "    </tr>\n",
       "  </tbody>\n",
       "</table>\n",
       "</div>"
      ],
      "text/plain": [
       "     year  t_cap_mw        ylat      xlong  blade_mass_tonnes  \\\n",
       "0  2001.0  1.051492 -100.376937  31.988169          13.006961   \n",
       "1  2001.0  1.051492 -100.376937  31.988169          13.006961   \n",
       "2  2001.0  1.051492 -100.376937  31.988169          13.006961   \n",
       "3  2001.0  1.051492 -100.376937  31.988169          13.006961   \n",
       "4  2001.0  1.051492 -100.376937  31.988169          13.006961   \n",
       "\n",
       "   foundation_mass_tonnes  \n",
       "0               82.025352  \n",
       "1               82.025352  \n",
       "2               82.025352  \n",
       "3               82.025352  \n",
       "4               82.025352  "
      ]
     },
     "execution_count": 8,
     "metadata": {},
     "output_type": "execute_result"
    }
   ],
   "source": [
    "usgs = pd.read_csv(\"TX_input_data_with_masses.csv\")\n",
    "\n",
    "# drop any rows without years (should be none)\n",
    "usgs.dropna(axis=0, subset=[\"year\"], inplace=True)\n",
    "\n",
    "# expand the dataset s.t. every turbine is one row\n",
    "expand = pd.DataFrame(np.repeat(usgs.values,usgs['n_turbine'],axis=0))\n",
    "expand.columns = usgs.columns\n",
    "expand.drop(columns='n_turbine',inplace=True)\n",
    "\n",
    "# remove raw input dataset\n",
    "del usgs\n",
    "\n",
    "# rename expanded dataset back to usgs\n",
    "usgs = expand.copy()\n",
    "\n",
    "print(len(usgs))\n",
    "usgs.head()"
   ]
  },
  {
   "cell_type": "markdown",
   "metadata": {},
   "source": [
    "## Run the DES model\n",
    "\n",
    "Populate the components, run the DES model, extract the inventory levels"
   ]
  },
  {
   "cell_type": "code",
   "execution_count": 9,
   "metadata": {},
   "outputs": [],
   "source": [
    "components = []\n",
    "for _, turbine in usgs.iterrows():\n",
    "    xlong = turbine[\"xlong\"]\n",
    "    ylat = turbine[\"ylat\"]\n",
    "    year = turbine[\"year\"]\n",
    "    blade_mass_tonnes = int(turbine[\"blade_mass_tonnes\"])\n",
    "    foundation_mass_tonnes = int(turbine['foundation_mass_tonnes'])\n",
    "    \n",
    "    components.append({\n",
    "        \"kind\": \"blade\",\n",
    "        \"xlong\": xlong,\n",
    "        \"ylat\": ylat,\n",
    "        \"year\": year,\n",
    "        \"mass_tonnes\": blade_mass_tonnes,\n",
    "    })\n",
    "    \n",
    "    components.append({\n",
    "        \"kind\": \"blade\",\n",
    "        \"xlong\": xlong,\n",
    "        \"ylat\": ylat,\n",
    "        \"year\": year,\n",
    "        \"mass_tonnes\": blade_mass_tonnes,\n",
    "    })\n",
    "    \n",
    "    components.append({\n",
    "        \"kind\": \"blade\",\n",
    "        \"xlong\": xlong,\n",
    "        \"ylat\": ylat,\n",
    "        \"year\": year,\n",
    "        \"mass_tonnes\": blade_mass_tonnes,\n",
    "    })\n",
    "    \n",
    "    components.append({\n",
    "        \"kind\": \"foundation\",\n",
    "        \"xlong\": xlong,\n",
    "        \"ylat\": ylat,\n",
    "        \"year\": year,\n",
    "        \"mass_tonnes\": foundation_mass_tonnes,\n",
    "    })\n",
    "    \n",
    "components = pd.DataFrame(components)"
   ]
  },
  {
   "cell_type": "code",
   "execution_count": 10,
   "metadata": {},
   "outputs": [],
   "source": [
    "# All lifespans in the model are in discrete timesteps\n",
    "timesteps_per_year = 4\n",
    "start_yr=2000\n",
    "end_yr=2050\n",
    "\n",
    "lifespans = [20 * timesteps_per_year]\n",
    "landfill_inventories = {}\n",
    "landfill_mass_inventories = {}\n",
    "K = 2.2   # DES Weibull shape parameter from Aubryn's study\n",
    "min_lifespan = 10 * timesteps_per_year  # From Faulstitch et al\n",
    "\n",
    "for lifespan in lifespans:\n",
    "    L = lifespan  # DES Weibull scale parameter\n",
    "\n",
    "    lifespan_fns = {\n",
    "        \"blade\": lambda: weibull_min.rvs(K, loc=min_lifespan, scale=L-min_lifespan, size=1)[0],\n",
    "#         \"blade\": lambda: weibull_min.rvs(K, loc=0, scale=L, size=1)[0],\n",
    "        \"foundation\": lambda: 50,\n",
    "    }"
   ]
  },
  {
   "cell_type": "code",
   "execution_count": 11,
   "metadata": {},
   "outputs": [],
   "source": [
    "if scenario == 'bau':\n",
    "    params=bau_cost_params\n",
    "elif scenario == 'mc':\n",
    "    params=mc_cost_params\n",
    "elif scenario == 'hc':\n",
    "    params=hc_cost_params\n",
    "else:\n",
    "    params=bau_cost_params"
   ]
  },
  {
   "cell_type": "code",
   "execution_count": 12,
   "metadata": {},
   "outputs": [],
   "source": [
    "context = Context(min_year=start_yr, max_timesteps=timesteps_per_year*(end_yr-start_yr),\n",
    "                  cost_params=params)\n",
    "context.populate(components, lifespan_fns)\n",
    "# calculate blade lifetimes in years based on the Weibull distribution\n",
    "component_lifespans = [component.lifespan_timesteps/timesteps_per_year for component in context.components if component.kind == \"blade\"]"
   ]
  },
  {
   "cell_type": "code",
   "execution_count": 13,
   "metadata": {},
   "outputs": [],
   "source": [
    "# run the DES model and get all material inventories\n",
    "all_inventories = context.run()"
   ]
  },
  {
   "cell_type": "code",
   "execution_count": 14,
   "metadata": {},
   "outputs": [],
   "source": [
    "all_inventories['landfill_component_inventory'].to_csv(scenario + '-landfill-component-inventory.csv')\n",
    "all_inventories['landfill_mass_inventory'].to_csv(scenario + '-landfill-mass-inventory.csv')\n",
    "all_inventories['virgin_component_inventory'].to_csv(scenario + '-virgin-component-inventory.csv')\n",
    "all_inventories['virgin_material_inventory'].to_csv(scenario + '-virgin-mass-inventory.csv')\n",
    "all_inventories['recycle_to_raw_component_inventory'].to_csv(scenario + '-recycle-raw-component-inventory.csv')\n",
    "all_inventories['recycle_to_raw_mass_inventory'].to_csv(scenario + '-recycle-raw-mass-inventory.csv')\n",
    "all_inventories['recycle_to_clinker_component_inventory'].to_csv(scenario + '-recycle-clinker-component-inventory.csv')\n",
    "all_inventories['recycle_to_clinker_mass_inventory'].to_csv(scenario + '-recycle-clinker-mass-inventory.csv')\n",
    "cost_hist_df = pd.DataFrame.from_dict(data=all_inventories['cost_history']).drop_duplicates()\n",
    "cost_hist_df.to_csv(scenario + '-cost-history.csv')"
   ]
  }
 ],
 "metadata": {
  "kernelspec": {
   "display_name": "Python 3",
   "language": "python",
   "name": "python3"
  },
  "language_info": {
   "codemirror_mode": {
    "name": "ipython",
    "version": 3
   },
   "file_extension": ".py",
   "mimetype": "text/x-python",
   "name": "python",
   "nbconvert_exporter": "python",
   "pygments_lexer": "ipython3",
   "version": "3.8.3"
  }
 },
 "nbformat": 4,
 "nbformat_minor": 4
}
